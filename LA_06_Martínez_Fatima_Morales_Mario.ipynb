{
  "nbformat": 4,
  "nbformat_minor": 0,
  "metadata": {
    "kernelspec": {
      "display_name": "Python 3",
      "language": "python",
      "name": "python3"
    },
    "language_info": {
      "codemirror_mode": {
        "name": "ipython",
        "version": 3
      },
      "file_extension": ".py",
      "mimetype": "text/x-python",
      "name": "python",
      "nbconvert_exporter": "python",
      "pygments_lexer": "ipython3",
      "version": "3.7.6"
    },
    "colab": {
      "name": "LA_06_Martínez_Fatima_Morales_Mario V1-Copy2.ipynb",
      "provenance": [],
      "collapsed_sections": []
    }
  },
  "cells": [
    {
      "cell_type": "markdown",
      "metadata": {
        "id": "s7EzAzNOcvQv"
      },
      "source": [
        "# Language & Automatas. Unit III. Assignment 06.\r\n",
        "---\r\n",
        "**Data 7A**\r\n",
        "\r\n",
        "* Fatima Martínez Torres\r\n",
        "* Mario Alberto Morales Zapata\r\n",
        "\r\n",
        "This Jupyter Notebook generates a class to read a automaton's configuration wheter in a fi\fle or a manual configuration, and transform it into a regular\r\n",
        "expression (REGEX).\r\n",
        "\r\n",
        "We have decided to implement the use of a couple of libraries to help us in the process.\r\n",
        "\r\n",
        "- **os** is to get the directory of the file\r\n",
        "- **random** is to be used within the Sipser's Algorithm\r\n",
        "- **regex** to a straightforward use on the validation of a word\r\n",
        "- **deepcopy** for its use within the process\r\n",
        "\r\n",
        "We would like to make some observations about the following implementation. The methods programmed might not be the most optimized ones, but they give a right result 😉.\r\n",
        "\r\n",
        "Furthermore, they might be some cases (or a bug 🥺) when we call the `convert_automaton()` method and its result is a empty string. Thus, we highly recommend you to run as many times as you want/need for this to be fixed. The latter is due to the `random` package we are using on said method.\r\n",
        "\r\n",
        "Another thing to be considered, is the fact that, for our practicity, we decided to add some auxiliary functions for the main methods of the assignment."
      ]
    },
    {
      "cell_type": "code",
      "metadata": {
        "id": "qPUI9Vg4EX56"
      },
      "source": [
        "import os\n",
        "import random\n",
        "import regex as re\n",
        "from copy import deepcopy"
      ],
      "execution_count": 1,
      "outputs": []
    },
    {
      "cell_type": "markdown",
      "metadata": {
        "id": "XAp_5PBicFsm"
      },
      "source": [
        "# Regular Expression Generator Class\r\n",
        "---"
      ]
    },
    {
      "cell_type": "code",
      "metadata": {
        "id": "QpYXi90jEX7D"
      },
      "source": [
        "class  RegularExpressionGenerator():\n",
        "    '''\n",
        "    Class to instantiate the properties in the NonDeterminsiticAutomaton object\n",
        "    '''\n",
        "    \n",
        "    def initialize(self, q, sigma, delta, q0, f, empty_symbol = 'NA'):\n",
        "        '''\n",
        "        Method that will work only for us to set the NFA's configuration and set its own properties.\n",
        "        \n",
        "        PARAMETERS:\n",
        "        - q: LIST of strings representating the automata's states\n",
        "        - sigma: LIST of symbols contained in the alphabet \n",
        "        - delta: DICTIONARY OF PAIRS which are the tuple of two strings, and a LIST of values q which the automaton's possible\n",
        "        states\n",
        "        - q0: STRING representating the initial state\n",
        "        - empy_symbol: STRING representating the empty transition in the automaton  \n",
        "        - f: LIST of final states\n",
        "        \n",
        "        OUTPUT:\n",
        "        There is no return for the user on this method more than the automaton setted.\n",
        "        '''\n",
        "        # Start by making some changes on the input data so we can work with it in my further methods\n",
        "        \n",
        "        # ---- Changing everything to strings -----\n",
        "        \n",
        "        # States 'q'\n",
        "        for i in range(len(q)): \n",
        "            q[i] = str(q[i]).replace(' ','')\n",
        "        \n",
        "        # Alphabet 'sigma'\n",
        "        for i in range(len(sigma)):\n",
        "            sigma[i] = str(sigma[i]).replace(' ','')\n",
        "        \n",
        "        # Transition functions 'delta'\n",
        "        delta_fixed = {}\n",
        "        for i in delta.keys():\n",
        "            llave = str(i)\n",
        "            llave = llave.replace(' ','').replace(',' ,'')\n",
        "            valor = []\n",
        "            valor_te = delta[i]\n",
        "            if type(delta[i]) != list:\n",
        "                valor.append(str(valor_te).replace(' ','').replace(',',''))\n",
        "            else: \n",
        "                for element in valor_te:\n",
        "                    valor.append(str(element).replace(' ','').replace(',',''))\n",
        "            delta_fixed[llave] = valor\n",
        "        \n",
        "        # Initial state 'q0'\n",
        "        q0 = str(q0).replace(' ','')\n",
        "        \n",
        "        # Final states 'f'\n",
        "        for i in range(len(f)):\n",
        "            f[i] = str(f[i]).replace(' ','')\n",
        "        \n",
        "        # Store the values of q\n",
        "        self.q = q\n",
        "        # Store the values of sigma\n",
        "        self.sigma = sigma\n",
        "        # Store the values of delta\n",
        "        self.delta = delta_fixed\n",
        "        # Store the initial state q0\n",
        "        self.q0 = q0\n",
        "        # Store the list of final states\n",
        "        self.f = f\n",
        "        # Store the string for empty set\n",
        "        self.empty = empty_symbol\n",
        "        # Establish the current state of the word (as there is no word, it is q0)\n",
        "        self.current = self.q0\n",
        "    \n",
        "    \n",
        "    def load_from_file(self, name, wd = os.getcwd()):\n",
        "        '''\n",
        "        This function works to load a .TXT file where you have an automata's configuration where each parameter must be \n",
        "        separeted from an enter ('\\n') and must start with brackets, just as a set.\n",
        "        The order of the parameters is: q, sigma, delta, q0, f.\n",
        "        \n",
        "        PARAMETERS: \n",
        "        - name: It MUST be a string type standing for the file's name followed by the .txt termination. e.g 'filename.txt'\n",
        "        - wd (OPTIONAL): Stands for the Working Directory where your .txt file is located. The default option is the current working\n",
        "          directory. It MUST be a string type.\n",
        "        \n",
        "        OUTPUT:\n",
        "        This function does not return anything to the user but it establishes the Automata's configuration. This one\n",
        "        must be seen as an alternative version of the initialize() method with the difference that here you are providing\n",
        "        the information from an external file. \n",
        "        '''\n",
        "        \n",
        "        # Esblish the working directory\n",
        "        wd = wd +'/'+ name\n",
        "        # Open the file for reading only\n",
        "        file = open(wd, 'r')\n",
        "        # Create a list with every line \n",
        "        l = file.read().splitlines()\n",
        "        \n",
        "        # Test that the user gave a 5-lines input in the .txt file \n",
        "        if len(l) != 5:\n",
        "            print('Your file is not in the right format.\\nUse the method txt_help() to have an idea on how it should be')\n",
        "        \n",
        "        # ---- Assign the proper values to the Automata ----\n",
        "        # Creating list-like and elements as empty lists\n",
        "        self.q = []\n",
        "        self.sigma = []\n",
        "        self.delta = {}\n",
        "        self.f = []\n",
        "        self.empty = 'NA'\n",
        "        \n",
        "        # Enter to the line in the txt where the q values should be and apply the correspondant changes\n",
        "        values_q = l[0].replace('{','').replace('}','').replace(' ','').split(',')\n",
        "        for element in values_q: \n",
        "            self.q.append(element)\n",
        "        \n",
        "        # Assign the values for sigma \n",
        "        values_sigma = l[1].replace('{','').replace('}','').replace(' ','').split(',')\n",
        "        for element in values_sigma:\n",
        "            self.sigma.append(element)\n",
        "            \n",
        "        # Assign the values for delta\n",
        "        values_delta = l[2].replace('{','').replace('}','').replace(' ','').split(',')\n",
        "        delta_new = {}\n",
        "        for element in values_delta:\n",
        "            value_ls = []\n",
        "            i = element.rfind('-')\n",
        "            key = element[:i]\n",
        "            value = element[i+1:]\n",
        "            if key not in delta_new.keys():\n",
        "                value_ls.append(value)\n",
        "                delta_new[key] = value_ls\n",
        "            else:\n",
        "                delta_new[key].append(value)\n",
        "            # This part is just to take advantage of the code and extract the empty symbol\n",
        "            if 'epsilon' in element:\n",
        "                self.empty = 'epsilon'\n",
        "            if 'lambda' in element: \n",
        "                self.empty = 'lambda'            \n",
        "        self.delta = delta_new\n",
        "            \n",
        "        # Assign the values for q0\n",
        "        self.q0 = l[3].replace(' ','')\n",
        "        \n",
        "        # Assign the values for f\n",
        "        values_f = l[4].replace('{','').replace('}','').replace(' ','').split(',')\n",
        "        for element in values_f: \n",
        "            self.f.append(element)\n",
        "            \n",
        "        # To tell where my word is at, remain in the initial state\n",
        "        self.current = self.q0\n",
        "        \n",
        "    def convert_automaton(self):\n",
        "        '''\n",
        "        Method called to convert the automaton generated in the configuration of the file or a manualy written, into its equivalent regular expresion.\n",
        "\n",
        "        PARAMETERS:\n",
        "        None\n",
        "\n",
        "        OUTPUT:\n",
        "        A regular expression in a STRING data type.\n",
        "        '''\n",
        "        # Call the auxiliary functions\n",
        "        resultado = self.convert_automaton_aux()\n",
        "        while len(resultado) == 0:\n",
        "            resultado = self.convert_automaton_aux()\n",
        "        \n",
        "        # Prepare the result to return it to the user\n",
        "        respuesta = list(resultado.keys())\n",
        "        respuesta = respuesta[0]\n",
        "        index = respuesta.index('-')\n",
        "        regex = respuesta[index+1:]\n",
        "\n",
        "        # Clean the output if needed\n",
        "        if 'lambda+' in regex:\n",
        "            regex = regex.replace(\"lambda+\",'')\n",
        "        if '+lambda' in regex:\n",
        "            regex = regex.replace(\"+lambda\",'')\n",
        "        if '(lambda+)' in regex:\n",
        "            regex = regex.replace(\"(lambda+)\",'')\n",
        "        if '(+lambda)' in regex:\n",
        "            regex = regex.replace(\"(+lambda)\",'')\n",
        "        if '(lambda)' in regex:\n",
        "            regex = regex.replace(\"(lambda)\",'')\n",
        "        if 'lambda' in regex:\n",
        "            regex = regex.replace(\"lambda\",'')\n",
        "        if 'vacio+' in regex:\n",
        "            regex = regex.replace(\"vacio+\",'')\n",
        "        if '+vacio' in regex:\n",
        "            regex = regex.replace(\"+vacio\",'')\n",
        "        if '(vacio+)' in regex:\n",
        "            regex = regex.replace(\"(vacio+)\",'')\n",
        "        if '(+vacio)' in regex:\n",
        "            regex = regex.replace(\"(+vacio)\",'')\n",
        "        if '(vacio)' in regex:\n",
        "            regex = regex.replace(\"(vacio)\",'')\n",
        "        if 'vacio' in regex:\n",
        "            regex = regex.replace(\"vacio\",'')\n",
        "        regex = regex.replace('U','+')\n",
        "        \n",
        "        # Return the regular expression\n",
        "        return regex\n",
        "\n",
        "    def process_symbol(self, state, symbol):\n",
        "        '''\n",
        "        This method receives a string representing the state and the symbol to process and returns \n",
        "        the set of possible next states\n",
        "        \n",
        "        INPUTS\n",
        "        - sate: STRING which indicates the state from which you are testing\n",
        "        - symbol: STRING which indicates the symbol to test along with the state to see the possible outputs\n",
        "        \n",
        "        OUPUT\n",
        "        - Possible next states: LIST of all the possible results by testing the state and symbol in the automata's \n",
        "        configuration.\n",
        "        '''\n",
        "        # Validate if the states belongs to the automaton\n",
        "        if state not in self.q:\n",
        "            raise Exception('Not a valid state')\n",
        "        \n",
        "        key_symb = state + '-' + symbol\n",
        "        key_empt = state + '-' + self.empty\n",
        "\n",
        "        # Condition to check if in case the state-symbol notation is not in any transition function...\n",
        "        if key_symb not in self.delta.keys():\n",
        "            # ... verify if there is any with state-empty transition function\n",
        "            if key_empt in self.delta.keys():\n",
        "                # List of the next possible states using an empty transition\n",
        "                siguientes_lambda = self.empty_transitions(state)\n",
        "                \n",
        "                # List of all the possible values to make a comparition after, to dismiss those states that are not defined as a result of a transition function\n",
        "                delta_values = [item for value in self.delta.values() for item in value]\n",
        "                \n",
        "                # Copy of the siguientes_lambda list to iterate in the original values without expecting erros in a modified list\n",
        "                sig_lambda_copy = siguientes_lambda\n",
        "                for est in sig_lambda_copy:\n",
        "                    # Specifics conditions where there might be a problem or error based on the results of the \n",
        "                    if est not in delta_values:\n",
        "                        siguientes_lambda.remove(est)\n",
        "                    elif est + '-' + self.empty not in self.delta.keys():\n",
        "                        siguientes_lambda.remove(est)\n",
        "                    elif self.delta[est + '-' + self.empty] != est:\n",
        "                        siguientes_lambda.remove(est)\n",
        "                \n",
        "                # List with the all posible states defined in the transition functions\n",
        "                siguientes = []\n",
        "                for element in siguientes_lambda:\n",
        "                    key_symb_sig = element + '-' + symbol\n",
        "                    if key_symb_sig not in self.delta.keys():\n",
        "                        continue\n",
        "                    else:\n",
        "                        siguientes += self.delta[key_symb_sig]\n",
        "                if len(siguientes) == 0:\n",
        "                    return print('This is not defined in your transition function, so you will remain in', state,\n",
        "                                 '\\n\\nIf you think this is a mistake, please check your input and your configuration :)')\n",
        "                \n",
        "                # List to store the states with no repititions\n",
        "                fixed = []\n",
        "                for estado in siguientes:\n",
        "                    if estado not in fixed: \n",
        "                        fixed.append(estado)\n",
        "                #print('\\nThese are your possible final states after that configuration:\\n',fixed)\n",
        "                \n",
        "                # Return the final list\n",
        "                return fixed\n",
        "            \n",
        "            # If there is no transition function posible, the processsymbol cannot be executed\n",
        "            return print('This is not defined in your transition function, so you will remain in', state,\n",
        "                         '\\n\\nIf you think this is a mistake, please check your input and your configuration :)')\n",
        "        \n",
        "        else:\n",
        "            # Do the same process in case there indeed is any transition function with the state-symbol\n",
        "            siguientes_lambda = []\n",
        "            if key_empt in self.delta.keys():\n",
        "                siguientes_lambda += self.empty_transitions(state)\n",
        "            \n",
        "            siguientes = self.delta[key_symb]\n",
        "            for element in siguientes: \n",
        "                if element+'-'+self.empty in self.delta.keys():\n",
        "                    siguientes_lambda += self.empty_transitions(element)\n",
        "            \n",
        "            delta_values = [item for value in self.delta.values() for item in value]\n",
        "            \n",
        "            sig_lambda_copy = siguientes_lambda\n",
        "            for est in sig_lambda_copy:\n",
        "                if est not in delta_values:\n",
        "                    siguientes_lambda.remove(est)\n",
        "                elif est + '-' + self.empty not in self.delta.keys():\n",
        "                    siguientes_lambda.remove(est)\n",
        "                elif est not in self.delta[est + '-' + self.empty]:\n",
        "                    siguientes_lambda.remove(est)\n",
        "                    \n",
        "            siguientes = siguientes + siguientes_lambda\n",
        "            fixed = []\n",
        "            for estado in siguientes:\n",
        "                if estado not in fixed: \n",
        "                    fixed.append(estado)\n",
        "            #print('\\nThese are your possible final states after that configuration:\\n',fixed)\n",
        "            return fixed\n",
        "\n",
        "    def empty_transitions(self, state):\n",
        "        '''\n",
        "        This method will be used to identify the possible next states when using an empty transition\n",
        "        from the state you want. This is the method we expect the user to use in their automaton.\n",
        "        \n",
        "        PARAMETERS:\n",
        "        - state: a STRING representing the states in which the user wants to get the set of possible states reachable using empty transitions.\n",
        "        \n",
        "        OUTPUT:\n",
        "        - result: cleaned LIST of all posibles states to be reached from the state given in the parameters\n",
        "        '''\n",
        "        # Calling the complementary recursive function\n",
        "        lista = self.empty_transitionss(state)\n",
        "        \n",
        "        # List to stored the result cleaned\n",
        "        result =  []\n",
        "        # Condition to check if the user has incorrectly input the parameters\n",
        "        if str(type(lista)) == \"<class 'NoneType'>\":\n",
        "            print('You cannot use',self.empty,'with this state. You remain in',state)\n",
        "            return list(state)\n",
        "        # Iteration in the result of the complementary function result to store the cleaned data into result\n",
        "        for element in lista:\n",
        "            if element not in result:\n",
        "                result.append(element)\n",
        "        #print('You can move to the states in the list with lambda: ' +str(result))\n",
        "        return result\n",
        "    \n",
        "    def check_word(self, word):\n",
        "        '''\n",
        "        This method receives a string and use the regular expression library\n",
        "        `regex` to compile the equivalent regular expression and return all matches\n",
        "        of the expression in the string.\n",
        "\n",
        "        PARAMETERS:\n",
        "        - word: a STRING type of the word to be matched with the regular expression\n",
        "\n",
        "        OUTPUT:\n",
        "        A list of possible matches of the word within any equivalent regular expression of the automaton\n",
        "        '''\n",
        "        # # Call the method to generate the regural expression\n",
        "        reg_ex = self.convert_automaton()\n",
        "        while len(reg_ex) == 0:\n",
        "            reg_ex = self.convert_automaton()\n",
        "\n",
        "        # enerate the matches with the `regex` package\n",
        "        matches = [set(i) for i in list(re.findall(reg_ex, word))]\n",
        "        \n",
        "        print(f'Regular Expression:\\n{reg_ex}\\n\\nMatches of {word}:\\n{matches}')\n",
        "\n",
        "        return matches\n",
        "\n",
        "# ---------------------------- AUXILIAR FUNCTIONS ---------------------------------------------        \n",
        "    \n",
        "    def convert_to_g(self):\n",
        "        \n",
        "        '''\n",
        "        This function adds the initial and final transactions to convert any automaton\n",
        "        (DFA or NFA) into a GNFA.\n",
        "        '''\n",
        "        # Self copy with deepcopy\n",
        "        gnfa = deepcopy(self)\n",
        "        # Add a empty symbol if a DFA was ingressed\n",
        "        if gnfa.empty == 'NA':\n",
        "            gnfa.empty = 'lambda'\n",
        "        # Add the Initial and Last One state to the old initial and final states\n",
        "        anadir = 'Initial'+'-'+ gnfa.empty\n",
        "        gnfa.delta[anadir] = [gnfa.q0]\n",
        "        gnfa.q0 = 'Initial'\n",
        "        \n",
        "        finales_old = gnfa.f\n",
        "        for element in finales_old:\n",
        "            anadir_temp = element+'-'+gnfa.empty\n",
        "            gnfa.delta[anadir_temp] = ['Lastone']\n",
        "        gnfa.f = ['Lastone']\n",
        "        \n",
        "        gnfa.q.append('Initial')\n",
        "        gnfa.q.append('Lastone')\n",
        "        # Return the GNFA with a single initial and final state\n",
        "        return gnfa\n",
        "    \n",
        "    def obtain_transition_letters(self, q,delta, q_1, q_2):\n",
        "        '''\n",
        "        Auxiliar function to get the transition letters.\n",
        "        '''\n",
        "        transiciones = []\n",
        "        respuesta = ''\n",
        "        # Verify which keys-values are valid\n",
        "        for element in list(delta.keys()):\n",
        "            if (q_1 in element) and (q_2 in delta[element]):\n",
        "                # Append to the transition list the letter\n",
        "                corte = element.index('-')\n",
        "                anadir = element[corte+1:]\n",
        "                transiciones.append(anadir)\n",
        "        # Verify if there were more than a letter connecting such states\n",
        "        if len(transiciones) == 0:\n",
        "            respuesta = 'vacio'\n",
        "        elif len(transiciones) == 1:\n",
        "            respuesta = transiciones[0]\n",
        "        elif len(transiciones) > 1:\n",
        "            respuesta = '|'.join(transiciones)\n",
        "\n",
        "        # Return the answer\n",
        "        return respuesta\n",
        "    \n",
        "\n",
        "    def corregir_palabra(self, r1, r2, r3, r4, gnfa):\n",
        "        '''\n",
        "        Auxiliar function to fix the regular expression based on its parts.\n",
        "        '''\n",
        "        # Check for R1 to obtain R1R2*\n",
        "        if r1 == gnfa.empty:\n",
        "            if (r2 == 'vacio') or (r2 == gnfa.empty):\n",
        "                r1r2 = ''\n",
        "            else:\n",
        "                r1r2 = f'({r2})*'\n",
        "        else:\n",
        "            if (r2 == 'vacio') or (r2 == gnfa.empty):\n",
        "                r1r2 = f'({r1})'\n",
        "            else:\n",
        "                r1r2 = f'({r1})({r2})*'\n",
        "\n",
        "        # Check for R3 to obtain R1R2*R3\n",
        "        if r3 == 'vacio':\n",
        "            r1r2r3 = ''\n",
        "        elif r3 == gnfa.empty:\n",
        "            if r1r2 == '':\n",
        "                r1r2r3 = ''\n",
        "            else:\n",
        "                r1r2r3 = f'{r1r2}'\n",
        "        else:\n",
        "            r1r2r3 = f'{r1r2}({r3})'\n",
        "        \n",
        "        # Check for R4 to obtain R1R2*R3UR4\n",
        "        if (r4 == 'vacio') or (r4 == gnfa.empty):\n",
        "            r1r2r3r4 = r1r2r3\n",
        "        else:\n",
        "            r1r2r3r4 = f'{r1r2r3}|({r4})'\n",
        "        \n",
        "        # Return the regular expression for R1R2*R3UR4\n",
        "        return r1r2r3r4\n",
        "    \n",
        "    def convert_automaton_aux(self):\n",
        "        '''\n",
        "        Auxiliar function to convert the automaton into a regular expression.\n",
        "        '''\n",
        "        gnfa = self.convert_to_g()\n",
        "        q = gnfa.q\n",
        "        initial = gnfa.q0\n",
        "        lastone = gnfa.f\n",
        "        delta = gnfa.delta\n",
        "        k = len(gnfa.q)\n",
        "        while k > 2:\n",
        "            # Random q_rip\n",
        "            q_rip = random.choice(q)\n",
        "            # Veryfy that it is not the Initial nor LastOne states\n",
        "            while (q_rip in lastone) or (q_rip == initial):\n",
        "                q_rip = random.choice(q)\n",
        "\n",
        "            # -------------------------INPUTS OF Q_RIP---------------------------------- \n",
        "            # List for the values/states that can reach q_rip\n",
        "            values = list(delta.values())\n",
        "            keys = list(delta.keys())\n",
        "            q_i_lista = []\n",
        "            for i in range(len(list(delta.keys()))):\n",
        "              if str(type(values[i])) == \"<class 'NoneType'>\":\n",
        "                break\n",
        "              if q_rip in values[i]:\n",
        "                corte = keys[i].index('-')\n",
        "                anadir = keys[i][:corte]\n",
        "                if anadir not in q_i_lista:\n",
        "                  q_i_lista.append(anadir)\n",
        "                \n",
        "            # --------------------------OUTPUTS OF Q_RIP---------------------------------\n",
        "            # List for the values/states that can be reached from q_rip\n",
        "            q_j_lista = []\n",
        "            for element in list(delta.keys()):\n",
        "                if (q_rip in element):\n",
        "                    if str(type(delta[element])) == \"<class 'NoneType'>\":\n",
        "                        break\n",
        "                    for p in delta[element]:\n",
        "                        if p not in q_j_lista:\n",
        "                            q_j_lista.append(p)\n",
        "            \n",
        "            # --------------------------OMIT ANY Q_RIP RELATION/TRANSITION------------------\n",
        "            for q_i in q_i_lista:\n",
        "                for q_j in q_j_lista:\n",
        "                    if (q_i not in lastone) and (q_j != initial): \n",
        "                        r1 = self.obtain_transition_letters(q,delta, q_i, q_rip)\n",
        "                        r2 = self.obtain_transition_letters(q,delta, q_rip, q_rip)\n",
        "                        r3 = self.obtain_transition_letters(q,delta, q_rip, q_j)\n",
        "                        r4 = self.obtain_transition_letters(q,delta, q_i, q_j)\n",
        "                        \n",
        "                        transicion = self.corregir_palabra(r1, r2, r3, r4, gnfa)\n",
        "                        if len(transicion)==0:\n",
        "                          transicion_vacia = q_i + '-' + gnfa.empty\n",
        "                          delta[transicion_vacia] = [q_j]\n",
        "                        else:\n",
        "                          transicion_1 = q_i+'-'+transicion\n",
        "                          delta[transicion_1] = [q_j]\n",
        "            \n",
        "            # Remove q_rip from all the states q\n",
        "            q.remove(q_rip)\n",
        "            \n",
        "            # Remoce all its outputs\n",
        "            copia_delta = delta\n",
        "            for key in list(copia_delta.keys()):\n",
        "                if q_rip in key:\n",
        "                    del delta[key]\n",
        "            \n",
        "            # Remove all its inputs\n",
        "            for key in list(copia_delta.keys()):\n",
        "                if str(type(delta[key])) == \"<class 'NoneType'>\":\n",
        "                    break\n",
        "                if q_rip in delta[key]:\n",
        "                    eliminar_qrip = delta[key]\n",
        "                    if len(eliminar_qrip) == 1:\n",
        "                        del delta[key]\n",
        "                    else:\n",
        "                      nueva_lista = eliminar_qrip.remove(q_rip)\n",
        "                      delta[key] = nueva_lista\n",
        "            # Remove all qi'relation with q_rip\n",
        "            k = len(q)\n",
        "        return delta\n",
        "\n",
        "    def empty_transitionss(self, state, contador = 0):\n",
        "        '''\n",
        "        Auxilat function that will be used to identify the possible next states when using an empty transition\n",
        "        from the state you want. However, this method is used in its recursive form only, and as a tool to\n",
        "        ingress its output to the method/function we expect the user to use in their automaton.\n",
        "        '''\n",
        "        test = state+'-'+self.empty\n",
        "        \n",
        "        # Base condition where the state-emty notation is not included in any of the transition functions\n",
        "        if test not in self.delta.keys():\n",
        "            return\n",
        "        \n",
        "        # List of all posible states based on the transition functions\n",
        "        posibles_temp = self.delta[test]\n",
        "        \n",
        "        # List to store all the states to be accepted as an output\n",
        "        aceptados = []\n",
        "        aceptados.append(state)\n",
        "        \n",
        "        # Modification to the counter\n",
        "        contador += 1\n",
        "        # If we are analizing more states than the ones we have, of course we are in a cycle \n",
        "        if len(self.q)*2 < contador:\n",
        "            del contador\n",
        "            contador = 0 \n",
        "            return\n",
        "        # Iteration wit the recursivity when we check all the posible states already stored\n",
        "        for stat in posibles_temp:\n",
        "            aceptados.append(stat)\n",
        "            # Resursion\n",
        "            f = self.empty_transitionss(stat, contador)\n",
        "            # Condition to check if the recursion has finished yet\n",
        "            if f != None:\n",
        "                # Loop to append each of the elements of the recursivity's output\n",
        "                for element in f:\n",
        "                    aceptados.append(element)            \n",
        "        return aceptados\n",
        "        "
      ],
      "execution_count": 2,
      "outputs": []
    },
    {
      "cell_type": "markdown",
      "metadata": {
        "id": "kE-kZdLAcUnb"
      },
      "source": [
        "# Tests\r\n",
        "---\r\n",
        "## File Test"
      ]
    },
    {
      "cell_type": "code",
      "metadata": {
        "id": "1zu41BpGEX7N"
      },
      "source": [
        "# Initialize Class\n",
        "a = RegularExpressionGenerator()\n",
        "\n",
        "# Load the automaton configuration from file\n",
        "a.load_from_file('prueba.txt', wd = r'UPY/Autómatas 06') # Make sure to use your own path!"
      ],
      "execution_count": 4,
      "outputs": []
    },
    {
      "cell_type": "code",
      "metadata": {
        "scrolled": false,
        "id": "6HHo29RFEX7V",
        "colab": {
          "base_uri": "https://localhost:8080/",
          "height": 36
        },
        "outputId": "9f7bbfdc-b297-4d71-ebd5-ff6110af7fdb"
      },
      "source": [
        "# Convert Automaton method\r\n",
        "a.convert_automaton() # Run as needed (sorry for the bug ☹)"
      ],
      "execution_count": 5,
      "outputs": [
        {
          "output_type": "execute_result",
          "data": {
            "application/vnd.google.colaboratory.intrinsic+json": {
              "type": "string"
            },
            "text/plain": [
              "''"
            ]
          },
          "metadata": {
            "tags": []
          },
          "execution_count": 5
        }
      ]
    },
    {
      "cell_type": "code",
      "metadata": {
        "colab": {
          "base_uri": "https://localhost:8080/"
        },
        "id": "EFVS255F_-HC",
        "outputId": "46d63e8e-ff5f-4962-8368-b48521a3a50c"
      },
      "source": [
        "# Verify the transition function of the automaton\r\n",
        "a.delta"
      ],
      "execution_count": 6,
      "outputs": [
        {
          "output_type": "execute_result",
          "data": {
            "text/plain": [
              "{'q0-0': ['q3'],\n",
              " 'q0-1': ['q1'],\n",
              " 'q1-0': ['q2', 'q3'],\n",
              " 'q1-1': ['q1'],\n",
              " 'q2-0': ['q2'],\n",
              " 'q2-1': ['q1'],\n",
              " 'q3-0': ['q3'],\n",
              " 'q3-1': ['q3']}"
            ]
          },
          "metadata": {
            "tags": []
          },
          "execution_count": 6
        }
      ]
    },
    {
      "cell_type": "code",
      "metadata": {
        "colab": {
          "base_uri": "https://localhost:8080/"
        },
        "id": "wav3VQy4AJDB",
        "outputId": "b87ebf67-eee4-45ee-f24d-fdd57542e4ea"
      },
      "source": [
        "# Check word method\r\n",
        "a.check_word('110')"
      ],
      "execution_count": 7,
      "outputs": [
        {
          "output_type": "stream",
          "text": [
            "Regular Expression:\n",
            "(((1)(1)*(0)|((1)(1)*(0))(0|(1)(1|(1)(1)*(1)|(1))*(0)|(0)|(0|(1)(1|(1)(1)*(1)|(1))*(0)|(0))(0|(1)(1|(1)(1)*(1)|(1))*(0)|(0))*(0|(1)(1|(1)(1)*(1)|(1))*(0)|(0))|(0|(1)(1|(1)(1)*(1)|(1))*(0)|(0)))*(0|(1)(1|(1)(1)*(1)|(1))*(0)|(0)|(0|(1)(1|(1)(1)*(1)|(1))*(0)|(0))(0|(1)(1|(1)(1)*(1)|(1))*(0)|(0))*(0|(1)(1|(1)(1)*(1)|(1))*(0)|(0))|(0|(1)(1|(1)(1)*(1)|(1))*(0)|(0)))|((1)(1)*(0)))(0|(1)(1|(1)(1)*(1)|(1))*(0)|(0)|(0|(1)(1|(1)(1)*(1)|(1))*(0)|(0))(0|(1)(1|(1)(1)*(1)|(1))*(0)|(0))*(0|(1)(1|(1)(1)*(1)|(1))*(0)|(0))|(0|(1)(1|(1)(1)*(1)|(1))*(0)|(0)))*(|(0|(1)(1|(1)(1)*(1)|(1))*(0)|(0)|(0|(1)(1|(1)(1)*(1)|(1))*(0)|(0))(0|(1)(1|(1)(1)*(1)|(1))*(0)|(0))*(0|(1)(1|(1)(1)*(1)|(1))*(0)|(0))|(0|(1)(1|(1)(1)*(1)|(1))*(0)|(0)))(0|(1)(1|(1)(1)*(1)|(1))*(0)|(0)|(0|(1)(1|(1)(1)*(1)|(1))*(0)|(0))(0|(1)(1|(1)(1)*(1)|(1))*(0)|(0))*(0|(1)(1|(1)(1)*(1)|(1))*(0)|(0))|(0|(1)(1|(1)(1)*(1)|(1))*(0)|(0)))*))\n",
            "\n",
            "Matches of 110:\n",
            "[{'', '110', '0', '1'}]\n"
          ],
          "name": "stdout"
        },
        {
          "output_type": "execute_result",
          "data": {
            "text/plain": [
              "[{'', '0', '1', '110'}]"
            ]
          },
          "metadata": {
            "tags": []
          },
          "execution_count": 7
        }
      ]
    },
    {
      "cell_type": "markdown",
      "metadata": {
        "id": "MCNnbhOgbhlQ"
      },
      "source": [
        "## Manual Test"
      ]
    },
    {
      "cell_type": "code",
      "metadata": {
        "id": "WehQh5mMEX7j"
      },
      "source": [
        "# Initialize Class\r\n",
        "p = RegularExpressionGenerator()"
      ],
      "execution_count": 8,
      "outputs": []
    },
    {
      "cell_type": "code",
      "metadata": {
        "id": "iDzB83DHEX7p"
      },
      "source": [
        "# Manually enter the configuration\n",
        "q = ['W','X','Y','Z']\n",
        "sigma = ['a','b']\n",
        "delta = {'W-a':'X','W-b':'X','X-a':'Z','X-b':'Y','Y-a':'Y','Y-b':'Y','Z-a':'Z','Z-b':'Z'}\n",
        "q0 = 'W'\n",
        "f = ['Y']\n",
        "\n",
        "# Initialize method with the precious configuration\n",
        "p.initialize(q=q, sigma=sigma, delta=delta, q0=q0, f=f)"
      ],
      "execution_count": 9,
      "outputs": []
    },
    {
      "cell_type": "code",
      "metadata": {
        "id": "OaFFT4uFEX7w",
        "colab": {
          "base_uri": "https://localhost:8080/",
          "height": 36
        },
        "outputId": "670d1b46-bf1a-48a6-cdb3-7e960141409e"
      },
      "source": [
        "# Convert Automaton method\r\n",
        "p.convert_automaton() # Run as needed (sorry for the bug ☹)"
      ],
      "execution_count": 10,
      "outputs": [
        {
          "output_type": "execute_result",
          "data": {
            "application/vnd.google.colaboratory.intrinsic+json": {
              "type": "string"
            },
            "text/plain": [
              "'((a|b))((b|(b)(a|b)*(a|b)|(b))(a|b)*)'"
            ]
          },
          "metadata": {
            "tags": []
          },
          "execution_count": 10
        }
      ]
    },
    {
      "cell_type": "code",
      "metadata": {
        "colab": {
          "base_uri": "https://localhost:8080/"
        },
        "id": "jv9n3sgZUWMO",
        "outputId": "9d9d8c93-9f7e-4902-bfcb-5c8b8a0521a8"
      },
      "source": [
        "# Verify the transition function of the automaton\r\n",
        "p.delta"
      ],
      "execution_count": 11,
      "outputs": [
        {
          "output_type": "execute_result",
          "data": {
            "text/plain": [
              "{'W-a': ['X'],\n",
              " 'W-b': ['X'],\n",
              " 'X-a': ['Z'],\n",
              " 'X-b': ['Y'],\n",
              " 'Y-a': ['Y'],\n",
              " 'Y-b': ['Y'],\n",
              " 'Z-a': ['Z'],\n",
              " 'Z-b': ['Z']}"
            ]
          },
          "metadata": {
            "tags": []
          },
          "execution_count": 11
        }
      ]
    },
    {
      "cell_type": "code",
      "metadata": {
        "colab": {
          "base_uri": "https://localhost:8080/"
        },
        "id": "SFEX8HbaUuKI",
        "outputId": "e9192c2a-d4f6-4bd1-9987-f897e35de414"
      },
      "source": [
        "# Check word method\r\n",
        "p.check_word('aaaaba')"
      ],
      "execution_count": 12,
      "outputs": [
        {
          "output_type": "stream",
          "text": [
            "Regular Expression:\n",
            "((a|b)((b|(b)(a|b)*(a|b)|(b))(a|b)*))\n",
            "\n",
            "Matches of aaaaba:\n",
            "[{'', 'ba', 'a', 'aba', 'b'}]\n"
          ],
          "name": "stdout"
        },
        {
          "output_type": "execute_result",
          "data": {
            "text/plain": [
              "[{'', 'a', 'aba', 'b', 'ba'}]"
            ]
          },
          "metadata": {
            "tags": []
          },
          "execution_count": 12
        }
      ]
    }
  ]
}